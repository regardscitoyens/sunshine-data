{
 "cells": [
  {
   "cell_type": "code",
   "execution_count": 1,
   "metadata": {
    "collapsed": true
   },
   "outputs": [],
   "source": [
    "import pandas as pd"
   ]
  },
  {
   "cell_type": "code",
   "execution_count": 2,
   "metadata": {
    "collapsed": false
   },
   "outputs": [],
   "source": [
    "df = pd.read_csv('~/Downloads/exports-etalab-2017.04.22/declaration_avantage_2017_04_22_04_00.csv', delimiter=';', dtype=str)"
   ]
  },
  {
   "cell_type": "code",
   "execution_count": 3,
   "metadata": {
    "collapsed": false
   },
   "outputs": [
    {
     "data": {
      "text/html": [
       "<div>\n",
       "<table border=\"1\" class=\"dataframe\">\n",
       "  <thead>\n",
       "    <tr style=\"text-align: right;\">\n",
       "      <th></th>\n",
       "      <th>entreprise_identifiant</th>\n",
       "      <th>denomination_sociale</th>\n",
       "      <th>ligne_identifiant</th>\n",
       "      <th>ligne_rectification</th>\n",
       "      <th>benef_categorie_code</th>\n",
       "      <th>categorie</th>\n",
       "      <th>benef_nom</th>\n",
       "      <th>benef_prenom</th>\n",
       "      <th>benef_qualite_code</th>\n",
       "      <th>qualite</th>\n",
       "      <th>...</th>\n",
       "      <th>benef_etablissement_codepostal</th>\n",
       "      <th>benef_etablissement_ville</th>\n",
       "      <th>benef_denomination_sociale</th>\n",
       "      <th>benef_objet_social</th>\n",
       "      <th>ligne_type</th>\n",
       "      <th>avant_date_signature</th>\n",
       "      <th>avant_montant_ttc</th>\n",
       "      <th>avant_nature</th>\n",
       "      <th>avant_convention_lie</th>\n",
       "      <th>semestre</th>\n",
       "    </tr>\n",
       "  </thead>\n",
       "  <tbody>\n",
       "    <tr>\n",
       "      <th>0</th>\n",
       "      <td>SQZVJHFY</td>\n",
       "      <td>PFIZER SAS</td>\n",
       "      <td>2014103500</td>\n",
       "      <td>N</td>\n",
       "      <td>[PRS]</td>\n",
       "      <td>Professionnel de santé</td>\n",
       "      <td>LAURENT</td>\n",
       "      <td>PHILIPPE</td>\n",
       "      <td>[10]</td>\n",
       "      <td>Médecin</td>\n",
       "      <td>...</td>\n",
       "      <td>NaN</td>\n",
       "      <td>NaN</td>\n",
       "      <td>NaN</td>\n",
       "      <td>NaN</td>\n",
       "      <td>[A]</td>\n",
       "      <td>04/04/2014</td>\n",
       "      <td>76</td>\n",
       "      <td>REPAS</td>\n",
       "      <td>NaN</td>\n",
       "      <td>S1</td>\n",
       "    </tr>\n",
       "    <tr>\n",
       "      <th>1</th>\n",
       "      <td>MBZJSQUV</td>\n",
       "      <td>GEDEON RICHTER France - Division Santé de la F...</td>\n",
       "      <td>20150760</td>\n",
       "      <td>N</td>\n",
       "      <td>[PRS]</td>\n",
       "      <td>Professionnel de santé</td>\n",
       "      <td>ANANI</td>\n",
       "      <td>VALENTIN</td>\n",
       "      <td>[10]</td>\n",
       "      <td>Médecin</td>\n",
       "      <td>...</td>\n",
       "      <td>NaN</td>\n",
       "      <td>NaN</td>\n",
       "      <td>NaN</td>\n",
       "      <td>NaN</td>\n",
       "      <td>[A]</td>\n",
       "      <td>06/05/2015</td>\n",
       "      <td>29</td>\n",
       "      <td>REPAS</td>\n",
       "      <td>NaN</td>\n",
       "      <td>S1</td>\n",
       "    </tr>\n",
       "    <tr>\n",
       "      <th>2</th>\n",
       "      <td>LQQNVAGG</td>\n",
       "      <td>DENTALINOV</td>\n",
       "      <td>MANUEL_139614</td>\n",
       "      <td>N</td>\n",
       "      <td>[PRS]</td>\n",
       "      <td>Professionnel de santé</td>\n",
       "      <td>CHOURAQUI</td>\n",
       "      <td>JEAN FRANCOIS</td>\n",
       "      <td>[40]</td>\n",
       "      <td>Chirurgien-dentiste</td>\n",
       "      <td>...</td>\n",
       "      <td>NaN</td>\n",
       "      <td>NaN</td>\n",
       "      <td>NaN</td>\n",
       "      <td>NaN</td>\n",
       "      <td>[A]</td>\n",
       "      <td>24/02/2015</td>\n",
       "      <td>56</td>\n",
       "      <td>REPAS</td>\n",
       "      <td>FORMATION JOURNEE NUMERIQUE 4 FEV 15</td>\n",
       "      <td>S1</td>\n",
       "    </tr>\n",
       "    <tr>\n",
       "      <th>3</th>\n",
       "      <td>QUDWAYXU</td>\n",
       "      <td>Laboratoires Lohmann &amp; Rauscher</td>\n",
       "      <td>S12014_CPLT102</td>\n",
       "      <td>N</td>\n",
       "      <td>[PRS]</td>\n",
       "      <td>Professionnel de santé</td>\n",
       "      <td>MATHIS</td>\n",
       "      <td>FREDERIC</td>\n",
       "      <td>[01]</td>\n",
       "      <td>Préparateur en pharmacie et préparateur en pha...</td>\n",
       "      <td>...</td>\n",
       "      <td>NaN</td>\n",
       "      <td>NaN</td>\n",
       "      <td>NaN</td>\n",
       "      <td>NaN</td>\n",
       "      <td>[A]</td>\n",
       "      <td>13/03/2014</td>\n",
       "      <td>15</td>\n",
       "      <td>REPAS</td>\n",
       "      <td>NaN</td>\n",
       "      <td>S1</td>\n",
       "    </tr>\n",
       "    <tr>\n",
       "      <th>4</th>\n",
       "      <td>CLQGPUAY</td>\n",
       "      <td>LABORATOIRES URGO</td>\n",
       "      <td>16526</td>\n",
       "      <td>N</td>\n",
       "      <td>[PRS]</td>\n",
       "      <td>Professionnel de santé</td>\n",
       "      <td>PIMONT</td>\n",
       "      <td>Marie Noelle</td>\n",
       "      <td>[60]</td>\n",
       "      <td>Infirmier</td>\n",
       "      <td>...</td>\n",
       "      <td>NaN</td>\n",
       "      <td>NaN</td>\n",
       "      <td>NaN</td>\n",
       "      <td>NaN</td>\n",
       "      <td>[A]</td>\n",
       "      <td>02/04/2015</td>\n",
       "      <td>28</td>\n",
       "      <td>REPAS</td>\n",
       "      <td>NaN</td>\n",
       "      <td>S1</td>\n",
       "    </tr>\n",
       "  </tbody>\n",
       "</table>\n",
       "<p>5 rows × 36 columns</p>\n",
       "</div>"
      ],
      "text/plain": [
       "  entreprise_identifiant                               denomination_sociale  \\\n",
       "0               SQZVJHFY                                         PFIZER SAS   \n",
       "1               MBZJSQUV  GEDEON RICHTER France - Division Santé de la F...   \n",
       "2               LQQNVAGG                                         DENTALINOV   \n",
       "3               QUDWAYXU                    Laboratoires Lohmann & Rauscher   \n",
       "4               CLQGPUAY                                  LABORATOIRES URGO   \n",
       "\n",
       "  ligne_identifiant ligne_rectification benef_categorie_code  \\\n",
       "0        2014103500                   N                [PRS]   \n",
       "1          20150760                   N                [PRS]   \n",
       "2     MANUEL_139614                   N                [PRS]   \n",
       "3    S12014_CPLT102                   N                [PRS]   \n",
       "4             16526                   N                [PRS]   \n",
       "\n",
       "                categorie  benef_nom    benef_prenom benef_qualite_code  \\\n",
       "0  Professionnel de santé    LAURENT        PHILIPPE               [10]   \n",
       "1  Professionnel de santé      ANANI        VALENTIN               [10]   \n",
       "2  Professionnel de santé  CHOURAQUI  JEAN FRANCOIS                [40]   \n",
       "3  Professionnel de santé     MATHIS        FREDERIC               [01]   \n",
       "4  Professionnel de santé     PIMONT    Marie Noelle               [60]   \n",
       "\n",
       "                                             qualite   ...     \\\n",
       "0                                            Médecin   ...      \n",
       "1                                            Médecin   ...      \n",
       "2                                Chirurgien-dentiste   ...      \n",
       "3  Préparateur en pharmacie et préparateur en pha...   ...      \n",
       "4                                          Infirmier   ...      \n",
       "\n",
       "  benef_etablissement_codepostal benef_etablissement_ville  \\\n",
       "0                            NaN                       NaN   \n",
       "1                            NaN                       NaN   \n",
       "2                            NaN                       NaN   \n",
       "3                            NaN                       NaN   \n",
       "4                            NaN                       NaN   \n",
       "\n",
       "  benef_denomination_sociale benef_objet_social ligne_type  \\\n",
       "0                        NaN                NaN        [A]   \n",
       "1                        NaN                NaN        [A]   \n",
       "2                        NaN                NaN        [A]   \n",
       "3                        NaN                NaN        [A]   \n",
       "4                        NaN                NaN        [A]   \n",
       "\n",
       "  avant_date_signature avant_montant_ttc avant_nature  \\\n",
       "0           04/04/2014                76        REPAS   \n",
       "1           06/05/2015                29        REPAS   \n",
       "2           24/02/2015                56        REPAS   \n",
       "3           13/03/2014                15        REPAS   \n",
       "4           02/04/2015                28        REPAS   \n",
       "\n",
       "                   avant_convention_lie semestre  \n",
       "0                                   NaN       S1  \n",
       "1                                   NaN       S1  \n",
       "2  FORMATION JOURNEE NUMERIQUE 4 FEV 15       S1  \n",
       "3                                   NaN       S1  \n",
       "4                                   NaN       S1  \n",
       "\n",
       "[5 rows x 36 columns]"
      ]
     },
     "execution_count": 3,
     "metadata": {},
     "output_type": "execute_result"
    }
   ],
   "source": [
    "df.head()"
   ]
  },
  {
   "cell_type": "code",
   "execution_count": 4,
   "metadata": {
    "collapsed": false
   },
   "outputs": [
    {
     "data": {
      "text/html": [
       "<div>\n",
       "<table border=\"1\" class=\"dataframe\">\n",
       "  <thead>\n",
       "    <tr style=\"text-align: right;\">\n",
       "      <th></th>\n",
       "      <th>identifiant_type</th>\n",
       "      <th>benef_identifiant_valeur</th>\n",
       "    </tr>\n",
       "  </thead>\n",
       "  <tbody>\n",
       "    <tr>\n",
       "      <th>0</th>\n",
       "      <td>RPPS</td>\n",
       "      <td>10002808250</td>\n",
       "    </tr>\n",
       "    <tr>\n",
       "      <th>1</th>\n",
       "      <td>RPPS</td>\n",
       "      <td>10002259124</td>\n",
       "    </tr>\n",
       "    <tr>\n",
       "      <th>2</th>\n",
       "      <td>AUTRE</td>\n",
       "      <td>NaN</td>\n",
       "    </tr>\n",
       "    <tr>\n",
       "      <th>3</th>\n",
       "      <td>AUTRE</td>\n",
       "      <td>NaN</td>\n",
       "    </tr>\n",
       "    <tr>\n",
       "      <th>4</th>\n",
       "      <td>AUTRE</td>\n",
       "      <td>NaN</td>\n",
       "    </tr>\n",
       "  </tbody>\n",
       "</table>\n",
       "</div>"
      ],
      "text/plain": [
       "  identifiant_type benef_identifiant_valeur\n",
       "0             RPPS              10002808250\n",
       "1             RPPS              10002259124\n",
       "2            AUTRE                      NaN\n",
       "3            AUTRE                      NaN\n",
       "4            AUTRE                      NaN"
      ]
     },
     "execution_count": 4,
     "metadata": {},
     "output_type": "execute_result"
    }
   ],
   "source": [
    "df[['identifiant_type', 'benef_identifiant_valeur']].head()"
   ]
  },
  {
   "cell_type": "code",
   "execution_count": 25,
   "metadata": {
    "collapsed": false
   },
   "outputs": [
    {
     "data": {
      "text/plain": [
       "0.71668428788702609"
      ]
     },
     "execution_count": 25,
     "metadata": {},
     "output_type": "execute_result"
    }
   ],
   "source": [
    "# % de RPPS dans le type d'identifiant\n",
    "total_count = df.shape[0]\n",
    "rpps_id_count = (df['identifiant_type'] == 'RPPS').sum()\n",
    "rpps_id_count / total_count"
   ]
  },
  {
   "cell_type": "code",
   "execution_count": 15,
   "metadata": {
    "collapsed": false
   },
   "outputs": [
    {
     "data": {
      "text/plain": [
       "0.99989534944681957"
      ]
     },
     "execution_count": 15,
     "metadata": {},
     "output_type": "execute_result"
    }
   ],
   "source": [
    "# % d'avantage sans RPPS\n",
    "df[df['identifiant_type'] == 'RPPS']['benef_identifiant_valeur'].notnull().sum() / rpps_id_count"
   ]
  },
  {
   "cell_type": "code",
   "execution_count": 41,
   "metadata": {
    "collapsed": false
   },
   "outputs": [
    {
     "name": "stdout",
     "output_type": "stream",
     "text": [
      "total 6893204\n",
      "identifiant_type\n",
      "RPPS      0.716684\n",
      "AUTRE     0.271417\n",
      "ORDRE     0.010217\n",
      "SIREN     0.001605\n",
      "FINESS    0.000076\n",
      "Name: identifiant_type, dtype: float64\n"
     ]
    },
    {
     "name": "stderr",
     "output_type": "stream",
     "text": [
      "/Users/fmassot/Envs/RC3/lib/python3.4/site-packages/ipykernel/__main__.py:2: FutureWarning: sort is deprecated, use sort_values(inplace=True) for INPLACE sorting\n",
      "  from ipykernel import kernelapp as app\n"
     ]
    }
   ],
   "source": [
    "identifiant_type_count = df.groupby('identifiant_type').identifiant_type.count()\n",
    "identifiant_type_count.sort(ascending=False)\n",
    "print('total', total_count)\n",
    "print(identifiant_type_count / total_count)"
   ]
  },
  {
   "cell_type": "code",
   "execution_count": 23,
   "metadata": {
    "collapsed": false
   },
   "outputs": [
    {
     "data": {
      "text/plain": [
       "0.49759852052187947"
      ]
     },
     "execution_count": 23,
     "metadata": {},
     "output_type": "execute_result"
    }
   ],
   "source": [
    "# % d'identifiant AUTRE non nul\n",
    "df[df['identifiant_type'] == 'AUTRE'].benef_identifiant_valeur.notnull().sum() / identifiant_type_count.AUTRE"
   ]
  },
  {
   "cell_type": "code",
   "execution_count": 42,
   "metadata": {
    "collapsed": false
   },
   "outputs": [
    {
     "name": "stderr",
     "output_type": "stream",
     "text": [
      "/Users/fmassot/Envs/RC3/lib/python3.4/site-packages/ipykernel/__main__.py:3: FutureWarning: sort is deprecated, use sort_values(inplace=True) for INPLACE sorting\n",
      "  app.launch_new_instance()\n"
     ]
    },
    {
     "data": {
      "text/plain": [
       "qualite\n",
       "Infirmier                                                                  0.039359\n",
       "Médecin                                                                    0.037760\n",
       "Préparateur en pharmacie et préparateur en pharmacie hospitalière          0.013506\n",
       "Pharmacien                                                                 0.004212\n",
       "Manipulateur d’électroradiologie médicale                                  0.003823\n",
       "Audioprothésiste                                                           0.002916\n",
       "Opticien-lunetier                                                          0.002871\n",
       "Chirurgien-dentiste                                                        0.002149\n",
       "Technicien de laboratoire médical                                          0.001552\n",
       "Aide soignant                                                              0.001439\n",
       "Prothésiste et orthésiste pour l’appareillage des personnes handicapées    0.000991\n",
       "Diététicien                                                                0.000909\n",
       "Orthoptiste                                                                0.000575\n",
       "Masseur-kinésithérapeute                                                   0.000568\n",
       "Sage-femme                                                                 0.000415\n",
       "Auxiliaire de puériculture                                                 0.000252\n",
       "Orthophoniste                                                              0.000215\n",
       "Pédicure-podologue                                                         0.000068\n",
       "Ergothérapeute                                                             0.000054\n",
       "Psychomotricien                                                            0.000023\n",
       "Editeur de presse                                                          0.000006\n",
       "Ambulancier                                                                0.000006\n",
       "Name: qualite, dtype: float64"
      ]
     },
     "execution_count": 42,
     "metadata": {},
     "output_type": "execute_result"
    }
   ],
   "source": [
    "# On regarde parmi les nuls quels sont les types de professionnel \n",
    "autre_with_null_id_by_qualite_count = df[(df.identifiant_type == 'AUTRE') & (df.benef_identifiant_valeur.isnull())].groupby('qualite').qualite.count()\n",
    "autre_with_null_id_by_qualite_count.sort(ascending=False)\n",
    "autre_with_null_id_by_qualite_count / total_count"
   ]
  },
  {
   "cell_type": "code",
   "execution_count": null,
   "metadata": {
    "collapsed": true
   },
   "outputs": [],
   "source": []
  }
 ],
 "metadata": {
  "kernelspec": {
   "display_name": "Python 3",
   "language": "python",
   "name": "python3"
  },
  "language_info": {
   "codemirror_mode": {
    "name": "ipython",
    "version": 3
   },
   "file_extension": ".py",
   "mimetype": "text/x-python",
   "name": "python",
   "nbconvert_exporter": "python",
   "pygments_lexer": "ipython3",
   "version": "3.4.1"
  }
 },
 "nbformat": 4,
 "nbformat_minor": 1
}
