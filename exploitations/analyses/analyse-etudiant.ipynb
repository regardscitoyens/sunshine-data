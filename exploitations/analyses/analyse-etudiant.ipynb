{
 "cells": [
  {
   "cell_type": "code",
   "execution_count": 90,
   "metadata": {
    "collapsed": true
   },
   "outputs": [],
   "source": [
    "%matplotlib inline\n",
    "\n",
    "import matplotlib as mpl\n",
    "import matplotlib.pyplot as plt\n",
    "import pandas as pd\n",
    "import seaborn as sns\n",
    "from jupyterthemes import jtplot\n",
    "import re\n",
    "import unidecode\n",
    "\n",
    "jtplot.style()\n",
    "\n",
    "def millions(x, pos):\n",
    "    return '%1.f M€' % (x*1e-6)\n",
    "\n",
    "def custom_parser(s):\n",
    "    if type(s) == str:\n",
    "        return pd.datetime.strptime(s, '%d/%m/%Y')\n",
    "    return pd.np.nan\n"
   ]
  },
  {
   "cell_type": "markdown",
   "metadata": {},
   "source": [
    "## Analyse des avantages des étudiants"
   ]
  },
  {
   "cell_type": "code",
   "execution_count": 2,
   "metadata": {
    "collapsed": false
   },
   "outputs": [],
   "source": [
    "iter_csv = pd.read_csv('../../data/tmp/declaration_avantage_2017_07_27_04_00.csv', \n",
    "                       parse_dates=['avant_date_signature'], \n",
    "                       date_parser=custom_parser,\n",
    "                       iterator=True,\n",
    "                       chunksize=1000,\n",
    "                       sep=';')\n",
    "\n",
    "avantage_data = pd.concat([chunk[chunk['benef_categorie_code'] == '[ETU]'] for chunk in iter_csv])"
   ]
  },
  {
   "cell_type": "code",
   "execution_count": 6,
   "metadata": {
    "collapsed": false
   },
   "outputs": [
    {
     "data": {
      "text/html": [
       "<div>\n",
       "<table border=\"1\" class=\"dataframe\">\n",
       "  <thead>\n",
       "    <tr style=\"text-align: right;\">\n",
       "      <th></th>\n",
       "      <th>entreprise_identifiant</th>\n",
       "      <th>denomination_sociale</th>\n",
       "      <th>ligne_identifiant</th>\n",
       "      <th>ligne_rectification</th>\n",
       "      <th>benef_categorie_code</th>\n",
       "      <th>categorie</th>\n",
       "      <th>benef_nom</th>\n",
       "      <th>benef_prenom</th>\n",
       "      <th>benef_qualite_code</th>\n",
       "      <th>qualite</th>\n",
       "      <th>...</th>\n",
       "      <th>benef_etablissement_codepostal</th>\n",
       "      <th>benef_etablissement_ville</th>\n",
       "      <th>benef_denomination_sociale</th>\n",
       "      <th>benef_objet_social</th>\n",
       "      <th>ligne_type</th>\n",
       "      <th>avant_date_signature</th>\n",
       "      <th>avant_montant_ttc</th>\n",
       "      <th>avant_nature</th>\n",
       "      <th>avant_convention_lie</th>\n",
       "      <th>semestre</th>\n",
       "    </tr>\n",
       "  </thead>\n",
       "  <tbody>\n",
       "    <tr>\n",
       "      <th>5</th>\n",
       "      <td>WMQRNJKV</td>\n",
       "      <td>IPSEN PHARMA</td>\n",
       "      <td>NAYA-MBE-270724_A_425208</td>\n",
       "      <td>N</td>\n",
       "      <td>[ETU]</td>\n",
       "      <td>Etudiant</td>\n",
       "      <td>GUEUDRY</td>\n",
       "      <td>PAULINE</td>\n",
       "      <td>NaN</td>\n",
       "      <td>NaN</td>\n",
       "      <td>...</td>\n",
       "      <td>75000</td>\n",
       "      <td>NON CONNUE</td>\n",
       "      <td>NaN</td>\n",
       "      <td>NaN</td>\n",
       "      <td>[A]</td>\n",
       "      <td>2015-11-04</td>\n",
       "      <td>21</td>\n",
       "      <td>REPAS</td>\n",
       "      <td>NaN</td>\n",
       "      <td>S2</td>\n",
       "    </tr>\n",
       "    <tr>\n",
       "      <th>6</th>\n",
       "      <td>WMQRNJKV</td>\n",
       "      <td>IPSEN PHARMA</td>\n",
       "      <td>NAYA-MBE-270721_A_215606</td>\n",
       "      <td>N</td>\n",
       "      <td>[ETU]</td>\n",
       "      <td>Etudiant</td>\n",
       "      <td>CHOWANIEC</td>\n",
       "      <td>YVONNE</td>\n",
       "      <td>NaN</td>\n",
       "      <td>NaN</td>\n",
       "      <td>...</td>\n",
       "      <td>75000</td>\n",
       "      <td>NON CONNUE</td>\n",
       "      <td>NaN</td>\n",
       "      <td>NaN</td>\n",
       "      <td>[A]</td>\n",
       "      <td>2015-11-04</td>\n",
       "      <td>21</td>\n",
       "      <td>REPAS</td>\n",
       "      <td>NaN</td>\n",
       "      <td>S2</td>\n",
       "    </tr>\n",
       "    <tr>\n",
       "      <th>7</th>\n",
       "      <td>WMQRNJKV</td>\n",
       "      <td>IPSEN PHARMA</td>\n",
       "      <td>NAYA-MBE-263838_A_391574</td>\n",
       "      <td>N</td>\n",
       "      <td>[ETU]</td>\n",
       "      <td>Etudiant</td>\n",
       "      <td>KRHILI</td>\n",
       "      <td>SAMAR</td>\n",
       "      <td>NaN</td>\n",
       "      <td>NaN</td>\n",
       "      <td>...</td>\n",
       "      <td>75000</td>\n",
       "      <td>NON CONNUE</td>\n",
       "      <td>NaN</td>\n",
       "      <td>NaN</td>\n",
       "      <td>[A]</td>\n",
       "      <td>2015-09-16</td>\n",
       "      <td>19</td>\n",
       "      <td>REPAS</td>\n",
       "      <td>NaN</td>\n",
       "      <td>S2</td>\n",
       "    </tr>\n",
       "    <tr>\n",
       "      <th>13</th>\n",
       "      <td>WMQRNJKV</td>\n",
       "      <td>IPSEN PHARMA</td>\n",
       "      <td>NAYA-MBE-259617_A_221855</td>\n",
       "      <td>N</td>\n",
       "      <td>[ETU]</td>\n",
       "      <td>Etudiant</td>\n",
       "      <td>VALLE</td>\n",
       "      <td>ALINE</td>\n",
       "      <td>NaN</td>\n",
       "      <td>NaN</td>\n",
       "      <td>...</td>\n",
       "      <td>75000</td>\n",
       "      <td>NON CONNUE</td>\n",
       "      <td>NaN</td>\n",
       "      <td>NaN</td>\n",
       "      <td>[A]</td>\n",
       "      <td>2015-10-01</td>\n",
       "      <td>572</td>\n",
       "      <td>TRANSPORT</td>\n",
       "      <td>NaN</td>\n",
       "      <td>S2</td>\n",
       "    </tr>\n",
       "    <tr>\n",
       "      <th>14</th>\n",
       "      <td>WMQRNJKV</td>\n",
       "      <td>IPSEN PHARMA</td>\n",
       "      <td>NAYA-MBE-259611_A_610768</td>\n",
       "      <td>N</td>\n",
       "      <td>[ETU]</td>\n",
       "      <td>Etudiant</td>\n",
       "      <td>ROUGEON</td>\n",
       "      <td>VERONICA</td>\n",
       "      <td>NaN</td>\n",
       "      <td>NaN</td>\n",
       "      <td>...</td>\n",
       "      <td>75000</td>\n",
       "      <td>NON CONNUE</td>\n",
       "      <td>NaN</td>\n",
       "      <td>NaN</td>\n",
       "      <td>[A]</td>\n",
       "      <td>2015-10-01</td>\n",
       "      <td>150</td>\n",
       "      <td>HEBERGEMENT</td>\n",
       "      <td>NaN</td>\n",
       "      <td>S2</td>\n",
       "    </tr>\n",
       "  </tbody>\n",
       "</table>\n",
       "<p>5 rows × 36 columns</p>\n",
       "</div>"
      ],
      "text/plain": [
       "   entreprise_identifiant denomination_sociale         ligne_identifiant  \\\n",
       "5                WMQRNJKV         IPSEN PHARMA  NAYA-MBE-270724_A_425208   \n",
       "6                WMQRNJKV         IPSEN PHARMA  NAYA-MBE-270721_A_215606   \n",
       "7                WMQRNJKV         IPSEN PHARMA  NAYA-MBE-263838_A_391574   \n",
       "13               WMQRNJKV         IPSEN PHARMA  NAYA-MBE-259617_A_221855   \n",
       "14               WMQRNJKV         IPSEN PHARMA  NAYA-MBE-259611_A_610768   \n",
       "\n",
       "   ligne_rectification benef_categorie_code categorie  benef_nom benef_prenom  \\\n",
       "5                    N                [ETU]  Etudiant    GUEUDRY      PAULINE   \n",
       "6                    N                [ETU]  Etudiant  CHOWANIEC       YVONNE   \n",
       "7                    N                [ETU]  Etudiant     KRHILI        SAMAR   \n",
       "13                   N                [ETU]  Etudiant      VALLE        ALINE   \n",
       "14                   N                [ETU]  Etudiant    ROUGEON     VERONICA   \n",
       "\n",
       "   benef_qualite_code qualite   ...    benef_etablissement_codepostal  \\\n",
       "5                 NaN     NaN   ...                             75000   \n",
       "6                 NaN     NaN   ...                             75000   \n",
       "7                 NaN     NaN   ...                             75000   \n",
       "13                NaN     NaN   ...                             75000   \n",
       "14                NaN     NaN   ...                             75000   \n",
       "\n",
       "   benef_etablissement_ville benef_denomination_sociale benef_objet_social  \\\n",
       "5                 NON CONNUE                        NaN                NaN   \n",
       "6                 NON CONNUE                        NaN                NaN   \n",
       "7                 NON CONNUE                        NaN                NaN   \n",
       "13                NON CONNUE                        NaN                NaN   \n",
       "14                NON CONNUE                        NaN                NaN   \n",
       "\n",
       "   ligne_type avant_date_signature avant_montant_ttc avant_nature  \\\n",
       "5         [A]           2015-11-04                21        REPAS   \n",
       "6         [A]           2015-11-04                21        REPAS   \n",
       "7         [A]           2015-09-16                19        REPAS   \n",
       "13        [A]           2015-10-01               572    TRANSPORT   \n",
       "14        [A]           2015-10-01               150  HEBERGEMENT   \n",
       "\n",
       "   avant_convention_lie semestre  \n",
       "5                   NaN       S2  \n",
       "6                   NaN       S2  \n",
       "7                   NaN       S2  \n",
       "13                  NaN       S2  \n",
       "14                  NaN       S2  \n",
       "\n",
       "[5 rows x 36 columns]"
      ]
     },
     "execution_count": 6,
     "metadata": {},
     "output_type": "execute_result"
    }
   ],
   "source": [
    "avantage_data.head()"
   ]
  },
  {
   "cell_type": "markdown",
   "metadata": {},
   "source": [
    "**Montant total des avantages données aux étudiants depuis mi 2013**"
   ]
  },
  {
   "cell_type": "code",
   "execution_count": 21,
   "metadata": {
    "collapsed": false
   },
   "outputs": [
    {
     "name": "stdout",
     "output_type": "stream",
     "text": [
      "Total des avantages depuis mi 2013 : 18 M€\n",
      "Nombre d'avantages : 333062\n",
      "Montant moyen d'un avantage : 52.8228678144\n"
     ]
    }
   ],
   "source": [
    "print(\"Total des avantages depuis mi 2013 :\", millions(avantage_data.avant_montant_ttc.sum(), \"\"))\n",
    "print(\"Nombre d'avantages :\", avantage_data.avant_montant_ttc.shape[0])\n",
    "print(\"Montant moyen d'un avantage :\", avantage_data.avant_montant_ttc.mean())"
   ]
  },
  {
   "cell_type": "markdown",
   "metadata": {
    "collapsed": true
   },
   "source": [
    "### Evolution annuelle du montant des avantages"
   ]
  },
  {
   "cell_type": "code",
   "execution_count": 29,
   "metadata": {
    "collapsed": false
   },
   "outputs": [
    {
     "data": {
      "image/png": "[encoded data removed]",
      "text/plain": [
       "<matplotlib.figure.Figure at 0x1184f70f0>"
      ]
     },
     "metadata": {},
     "output_type": "display_data"
    }
   ],
   "source": [
    "avantage_data_by_month = avantage_data.groupby(avantage_data.avant_date_signature.dt.to_period(\"M\"))\n",
    "avantage_data_by_quarter = avantage_data.groupby(avantage_data.avant_date_signature.dt.to_period(\"Q\"))\n",
    "avantage_data_by_year = avantage_data.groupby(avantage_data.avant_date_signature.dt.to_period(\"A\"))\n",
    "\n",
    "with sns.axes_style(\"whitegrid\"):\n",
    "    sns.set_context(\"talk\")\n",
    "    plot = avantage_data_by_year.avant_montant_ttc.sum().plot()\n",
    "    formatter = mpl.ticker.FuncFormatter(millions)\n",
    "    plot.yaxis.set_major_formatter(formatter)\n",
    "    plot = avantage_data_by_quarter.avant_montant_ttc.sum().plot()\n",
    "    formatter = mpl.ticker.FuncFormatter(millions)\n",
    "    plot.yaxis.set_major_formatter(formatter)"
   ]
  },
  {
   "cell_type": "markdown",
   "metadata": {
    "collapsed": true
   },
   "source": [
    "### Montant des avantages par type"
   ]
  },
  {
   "cell_type": "code",
   "execution_count": 149,
   "metadata": {
    "collapsed": false
   },
   "outputs": [],
   "source": [
    "repas_re = re.compile('(repas|restauration|restaurant|dejeuner|diner|collation|bouche|coktail|cocktail|traiteur|buffet|reception)')\n",
    "transport_re = re.compile('(transport|deplacement|train)')\n",
    "hebergement_re = re.compile('(hebergement|hospitalite|nuit|voyage|hotel|bergement)')\n",
    "congre_re = re.compile(\"(inscription|congres|invitation|conferences)\")\n",
    "autre_re = re.compile(\"(autre|divers|cadeau)\")\n",
    "don_re = re.compile(\"don\")\n",
    "\n",
    "def normalize_nature(nature):\n",
    "    nature = unidecode.unidecode(nature).lower()\n",
    "    if repas_re.search(nature):\n",
    "        return \"REPAS\"\n",
    "    if hebergement_re.search(nature):\n",
    "        return \"HEBERGEMENT\"\n",
    "    if transport_re.search(nature):\n",
    "        return \"TRANSPORT\"\n",
    "    if congre_re.search(nature):\n",
    "        return \"CONGRES\"\n",
    "    if don_re.search(nature):\n",
    "        return \"DON\"\n",
    "    if autre_re.search(nature):\n",
    "        return \"AUTRE\"\n",
    "    \n",
    "    return nature\n",
    "\n",
    "avantage_data[\"normalized_avant_nature\"] = avantage_data.avant_nature.apply(normalize_nature)\n",
    "avant_by_nature = avantage_data.groupby('normalized_avant_nature').sum()"
   ]
  },
  {
   "cell_type": "code",
   "execution_count": 150,
   "metadata": {
    "collapsed": false
   },
   "outputs": [],
   "source": [
    "avant_by_nature.reset_index(level=0, inplace=True)\n",
    "avant_by_nature.sort_values(by=\"avant_montant_ttc\", ascending=False, inplace=True)"
   ]
  },
  {
   "cell_type": "code",
   "execution_count": 151,
   "metadata": {
    "collapsed": false
   },
   "outputs": [
    {
     "data": {
      "image/png": "[encoded data removed]",
      "text/plain": [
       "<matplotlib.figure.Figure at 0x12067df98>"
      ]
     },
     "metadata": {},
     "output_type": "display_data"
    }
   ],
   "source": [
    "with sns.axes_style(\"whitegrid\"):\n",
    "    sns.set_context(\"talk\")\n",
    "    sns.barplot(x=\"avant_montant_ttc\", y=\"normalized_avant_nature\", data=avant_by_nature[:10], label=\"Total\", color=\"b\")"
   ]
  },
  {
   "cell_type": "code",
   "execution_count": null,
   "metadata": {
    "collapsed": false
   },
   "outputs": [],
   "source": []
  },
  {
   "cell_type": "code",
   "execution_count": null,
   "metadata": {
    "collapsed": false
   },
   "outputs": [],
   "source": []
  },
  {
   "cell_type": "code",
   "execution_count": null,
   "metadata": {
    "collapsed": true
   },
   "outputs": [],
   "source": []
  },
  {
   "cell_type": "code",
   "execution_count": null,
   "metadata": {
    "collapsed": false
   },
   "outputs": [],
   "source": []
  },
  {
   "cell_type": "code",
   "execution_count": null,
   "metadata": {
    "collapsed": true
   },
   "outputs": [],
   "source": []
  }
 ],
 "metadata": {
  "kernelspec": {
   "display_name": "Python 3",
   "language": "python",
   "name": "python3"
  },
  "language_info": {
   "codemirror_mode": {
    "name": "ipython",
    "version": 3
   },
   "file_extension": ".py",
   "mimetype": "text/x-python",
   "name": "python",
   "nbconvert_exporter": "python",
   "pygments_lexer": "ipython3",
   "version": "3.4.1"
  }
 },
 "nbformat": 4,
 "nbformat_minor": 1
}
