{
 "cells": [
  {
   "cell_type": "code",
   "execution_count": 1,
   "metadata": {
    "collapsed": true
   },
   "outputs": [],
   "source": [
    "%matplotlib inline\n",
    "\n",
    "import matplotlib as mpl\n",
    "import matplotlib.pyplot as plt\n",
    "import pandas as pd\n",
    "import seaborn as sns\n",
    "from jupyterthemes import jtplot\n",
    "import re\n",
    "import unidecode\n",
    "\n",
    "jtplot.style()\n",
    "\n",
    "def millions(x, pos):\n",
    "    return '%1.f M€' % (x*1e-6)\n",
    "\n",
    "def custom_parser(s):\n",
    "    if type(s) == str:\n",
    "        return pd.datetime.strptime(s, '%d/%m/%Y')\n",
    "    return pd.np.nan\n"
   ]
  },
  {
   "cell_type": "markdown",
   "metadata": {},
   "source": [
    "## Analyse des avantages"
   ]
  },
  {
   "cell_type": "code",
   "execution_count": 2,
   "metadata": {
    "collapsed": false
   },
   "outputs": [
    {
     "name": "stderr",
     "output_type": "stream",
     "text": [
      "/Users/fmassot/Envs/RC3/lib/python3.4/site-packages/IPython/core/interactiveshell.py:2718: DtypeWarning: Columns (12,13,14,18,19,25,26,27,28,29,34) have mixed types. Specify dtype option on import or set low_memory=False.\n",
      "  interactivity=interactivity, compiler=compiler, result=result)\n"
     ]
    }
   ],
   "source": [
    "avantage_data = pd.read_csv('../../data/tmp/declaration_avantage_2017_07_27_04_00.csv', \n",
    "                       parse_dates=['avant_date_signature'], \n",
    "                       date_parser=custom_parser,\n",
    "                       sep=';')"
   ]
  },
  {
   "cell_type": "code",
   "execution_count": 4,
   "metadata": {
    "collapsed": false
   },
   "outputs": [
    {
     "data": {
      "text/html": [
       "<div>\n",
       "<table border=\"1\" class=\"dataframe\">\n",
       "  <thead>\n",
       "    <tr style=\"text-align: right;\">\n",
       "      <th></th>\n",
       "      <th>entreprise_identifiant</th>\n",
       "      <th>denomination_sociale</th>\n",
       "      <th>ligne_identifiant</th>\n",
       "      <th>ligne_rectification</th>\n",
       "      <th>benef_categorie_code</th>\n",
       "      <th>categorie</th>\n",
       "      <th>benef_nom</th>\n",
       "      <th>benef_prenom</th>\n",
       "      <th>benef_qualite_code</th>\n",
       "      <th>qualite</th>\n",
       "      <th>...</th>\n",
       "      <th>benef_etablissement_codepostal</th>\n",
       "      <th>benef_etablissement_ville</th>\n",
       "      <th>benef_denomination_sociale</th>\n",
       "      <th>benef_objet_social</th>\n",
       "      <th>ligne_type</th>\n",
       "      <th>avant_date_signature</th>\n",
       "      <th>avant_montant_ttc</th>\n",
       "      <th>avant_nature</th>\n",
       "      <th>avant_convention_lie</th>\n",
       "      <th>semestre</th>\n",
       "    </tr>\n",
       "  </thead>\n",
       "  <tbody>\n",
       "    <tr>\n",
       "      <th>0</th>\n",
       "      <td>LFSWZPFF</td>\n",
       "      <td>AbbVie</td>\n",
       "      <td>1H12015NR1792</td>\n",
       "      <td>N</td>\n",
       "      <td>[PRS]</td>\n",
       "      <td>Professionnel de santé</td>\n",
       "      <td>REY</td>\n",
       "      <td>MARIE</td>\n",
       "      <td>[10]</td>\n",
       "      <td>Médecin</td>\n",
       "      <td>...</td>\n",
       "      <td>NaN</td>\n",
       "      <td>NaN</td>\n",
       "      <td>NaN</td>\n",
       "      <td>NaN</td>\n",
       "      <td>[A]</td>\n",
       "      <td>2015-02-16</td>\n",
       "      <td>40</td>\n",
       "      <td>REPAS</td>\n",
       "      <td>NaN</td>\n",
       "      <td>S1</td>\n",
       "    </tr>\n",
       "    <tr>\n",
       "      <th>1</th>\n",
       "      <td>LFSWZPFF</td>\n",
       "      <td>AbbVie</td>\n",
       "      <td>1H12015NR2265</td>\n",
       "      <td>N</td>\n",
       "      <td>[PRS]</td>\n",
       "      <td>Professionnel de santé</td>\n",
       "      <td>ORANCEON</td>\n",
       "      <td>LIONEL</td>\n",
       "      <td>[10]</td>\n",
       "      <td>Médecin</td>\n",
       "      <td>...</td>\n",
       "      <td>NaN</td>\n",
       "      <td>NaN</td>\n",
       "      <td>NaN</td>\n",
       "      <td>NaN</td>\n",
       "      <td>[A]</td>\n",
       "      <td>2015-03-12</td>\n",
       "      <td>35</td>\n",
       "      <td>REPAS</td>\n",
       "      <td>NaN</td>\n",
       "      <td>S1</td>\n",
       "    </tr>\n",
       "    <tr>\n",
       "      <th>2</th>\n",
       "      <td>IOUJLTOH</td>\n",
       "      <td>GLOBAL D</td>\n",
       "      <td>GD-3712</td>\n",
       "      <td>N</td>\n",
       "      <td>[PRS]</td>\n",
       "      <td>Professionnel de santé</td>\n",
       "      <td>LECONTE</td>\n",
       "      <td>CAROLE</td>\n",
       "      <td>[40]</td>\n",
       "      <td>Chirurgien-dentiste</td>\n",
       "      <td>...</td>\n",
       "      <td>NaN</td>\n",
       "      <td>NaN</td>\n",
       "      <td>NaN</td>\n",
       "      <td>NaN</td>\n",
       "      <td>[A]</td>\n",
       "      <td>2016-02-04</td>\n",
       "      <td>94</td>\n",
       "      <td>REPAS</td>\n",
       "      <td>NaN</td>\n",
       "      <td>S1</td>\n",
       "    </tr>\n",
       "    <tr>\n",
       "      <th>3</th>\n",
       "      <td>IOUJLTOH</td>\n",
       "      <td>GLOBAL D</td>\n",
       "      <td>GD-3628</td>\n",
       "      <td>N</td>\n",
       "      <td>[PRS]</td>\n",
       "      <td>Professionnel de santé</td>\n",
       "      <td>HENRY</td>\n",
       "      <td>FRANCOIS</td>\n",
       "      <td>[40]</td>\n",
       "      <td>Chirurgien-dentiste</td>\n",
       "      <td>...</td>\n",
       "      <td>NaN</td>\n",
       "      <td>NaN</td>\n",
       "      <td>NaN</td>\n",
       "      <td>NaN</td>\n",
       "      <td>[A]</td>\n",
       "      <td>2016-01-11</td>\n",
       "      <td>50</td>\n",
       "      <td>REPAS</td>\n",
       "      <td>NaN</td>\n",
       "      <td>S1</td>\n",
       "    </tr>\n",
       "    <tr>\n",
       "      <th>4</th>\n",
       "      <td>IOUJLTOH</td>\n",
       "      <td>GLOBAL D</td>\n",
       "      <td>GD-3418</td>\n",
       "      <td>N</td>\n",
       "      <td>[PRS]</td>\n",
       "      <td>Professionnel de santé</td>\n",
       "      <td>JOUINES</td>\n",
       "      <td>OLIVIER</td>\n",
       "      <td>[40]</td>\n",
       "      <td>Chirurgien-dentiste</td>\n",
       "      <td>...</td>\n",
       "      <td>NaN</td>\n",
       "      <td>NaN</td>\n",
       "      <td>NaN</td>\n",
       "      <td>NaN</td>\n",
       "      <td>[A]</td>\n",
       "      <td>2016-01-26</td>\n",
       "      <td>20</td>\n",
       "      <td>REPAS</td>\n",
       "      <td>NaN</td>\n",
       "      <td>S1</td>\n",
       "    </tr>\n",
       "  </tbody>\n",
       "</table>\n",
       "<p>5 rows × 36 columns</p>\n",
       "</div>"
      ],
      "text/plain": [
       "  entreprise_identifiant denomination_sociale ligne_identifiant  \\\n",
       "0               LFSWZPFF               AbbVie     1H12015NR1792   \n",
       "1               LFSWZPFF               AbbVie     1H12015NR2265   \n",
       "2               IOUJLTOH             GLOBAL D           GD-3712   \n",
       "3               IOUJLTOH             GLOBAL D           GD-3628   \n",
       "4               IOUJLTOH             GLOBAL D           GD-3418   \n",
       "\n",
       "  ligne_rectification benef_categorie_code               categorie benef_nom  \\\n",
       "0                   N                [PRS]  Professionnel de santé       REY   \n",
       "1                   N                [PRS]  Professionnel de santé  ORANCEON   \n",
       "2                   N                [PRS]  Professionnel de santé   LECONTE   \n",
       "3                   N                [PRS]  Professionnel de santé     HENRY   \n",
       "4                   N                [PRS]  Professionnel de santé   JOUINES   \n",
       "\n",
       "  benef_prenom benef_qualite_code              qualite   ...     \\\n",
       "0        MARIE               [10]              Médecin   ...      \n",
       "1       LIONEL               [10]              Médecin   ...      \n",
       "2       CAROLE               [40]  Chirurgien-dentiste   ...      \n",
       "3     FRANCOIS               [40]  Chirurgien-dentiste   ...      \n",
       "4      OLIVIER               [40]  Chirurgien-dentiste   ...      \n",
       "\n",
       "  benef_etablissement_codepostal benef_etablissement_ville  \\\n",
       "0                            NaN                       NaN   \n",
       "1                            NaN                       NaN   \n",
       "2                            NaN                       NaN   \n",
       "3                            NaN                       NaN   \n",
       "4                            NaN                       NaN   \n",
       "\n",
       "  benef_denomination_sociale benef_objet_social ligne_type  \\\n",
       "0                        NaN                NaN        [A]   \n",
       "1                        NaN                NaN        [A]   \n",
       "2                        NaN                NaN        [A]   \n",
       "3                        NaN                NaN        [A]   \n",
       "4                        NaN                NaN        [A]   \n",
       "\n",
       "  avant_date_signature avant_montant_ttc avant_nature avant_convention_lie  \\\n",
       "0           2015-02-16                40        REPAS                  NaN   \n",
       "1           2015-03-12                35        REPAS                  NaN   \n",
       "2           2016-02-04                94        REPAS                  NaN   \n",
       "3           2016-01-11                50        REPAS                  NaN   \n",
       "4           2016-01-26                20        REPAS                  NaN   \n",
       "\n",
       "  semestre  \n",
       "0       S1  \n",
       "1       S1  \n",
       "2       S1  \n",
       "3       S1  \n",
       "4       S1  \n",
       "\n",
       "[5 rows x 36 columns]"
      ]
     },
     "execution_count": 4,
     "metadata": {},
     "output_type": "execute_result"
    }
   ],
   "source": [
    "avantage_data.head()"
   ]
  },
  {
   "cell_type": "markdown",
   "metadata": {},
   "source": [
    "#### Montant total des avantages données aux étudiants depuis 2012"
   ]
  },
  {
   "cell_type": "code",
   "execution_count": 5,
   "metadata": {
    "collapsed": false
   },
   "outputs": [
    {
     "name": "stdout",
     "output_type": "stream",
     "text": [
      "Total des avantages depuis mi 2013 : 911 M€\n",
      "Nombre d'avantages : 6894196\n",
      "Montant moyen d'un avantage : 132.182683956\n"
     ]
    }
   ],
   "source": [
    "print(\"Total des avantages depuis mi 2013 :\", millions(avantage_data.avant_montant_ttc.sum(), \"\"))\n",
    "print(\"Nombre d'avantages :\", avantage_data.avant_montant_ttc.shape[0])\n",
    "print(\"Montant moyen d'un avantage :\", avantage_data.avant_montant_ttc.mean())"
   ]
  },
  {
   "cell_type": "markdown",
   "metadata": {
    "collapsed": true
   },
   "source": [
    "### Evolution annuelle du montant des avantages"
   ]
  },
  {
   "cell_type": "code",
   "execution_count": 7,
   "metadata": {
    "collapsed": false
   },
   "outputs": [
    {
     "data": {
      "text/plain": [
       "avant_date_signature\n",
       "2012     31882376\n",
       "2013    150507607\n",
       "2014    242825450\n",
       "2015    258937971\n",
       "2016    227139927\n",
       "Freq: A-DEC, Name: avant_montant_ttc, dtype: int64"
      ]
     },
     "execution_count": 7,
     "metadata": {},
     "output_type": "execute_result"
    }
   ],
   "source": [
    "avantage_data_by_month = avantage_data.groupby(avantage_data.avant_date_signature.dt.to_period(\"M\"))\n",
    "avantage_data_by_quarter = avantage_data.groupby(avantage_data.avant_date_signature.dt.to_period(\"Q\"))\n",
    "avantage_data_by_year = avantage_data.groupby(avantage_data.avant_date_signature.dt.to_period(\"A\"))\n",
    "avantage_data_by_year.avant_montant_ttc.sum()"
   ]
  },
  {
   "cell_type": "code",
   "execution_count": 8,
   "metadata": {
    "collapsed": false
   },
   "outputs": [
    {
     "data": {
      "image/png": "[encoded data removed]",
      "text/plain": [
       "<matplotlib.figure.Figure at 0x1dc5d9080>"
      ]
     },
     "metadata": {},
     "output_type": "display_data"
    }
   ],
   "source": [
    "with sns.axes_style(\"whitegrid\"):\n",
    "    sns.set_context(\"talk\")\n",
    "    plot = avantage_data_by_year.avant_montant_ttc.sum().plot()\n",
    "    formatter = mpl.ticker.FuncFormatter(millions)\n",
    "    plot.yaxis.set_major_formatter(formatter)\n",
    "    plot = avantage_data_by_quarter.avant_montant_ttc.sum().plot()\n",
    "    formatter = mpl.ticker.FuncFormatter(millions)\n",
    "    plot.yaxis.set_major_formatter(formatter)"
   ]
  },
  {
   "cell_type": "markdown",
   "metadata": {
    "collapsed": true
   },
   "source": [
    "### Montant des avantages par type"
   ]
  },
  {
   "cell_type": "code",
   "execution_count": 9,
   "metadata": {
    "collapsed": false
   },
   "outputs": [],
   "source": [
    "repas_re = re.compile('(repas|restauration|restaurant|dejeuner|diner|collation|bouche|coktail|cocktail|traiteur|buffet|reception)')\n",
    "transport_re = re.compile('(transport|deplacement|train)')\n",
    "hebergement_re = re.compile('(hebergement|hospitalite|nuit|voyage|hotel|bergement)')\n",
    "congre_re = re.compile(\"(inscription|congres|invitation|conferences)\")\n",
    "autre_re = re.compile(\"(autre|divers|cadeau)\")\n",
    "don_re = re.compile(\"don\")\n",
    "\n",
    "def normalize_nature(nature):\n",
    "    nature = unidecode.unidecode(nature).lower()\n",
    "    if repas_re.search(nature):\n",
    "        return \"REPAS\"\n",
    "    if hebergement_re.search(nature):\n",
    "        return \"HEBERGEMENT\"\n",
    "    if transport_re.search(nature):\n",
    "        return \"TRANSPORT\"\n",
    "    if congre_re.search(nature):\n",
    "        return \"CONGRES\"\n",
    "    if don_re.search(nature):\n",
    "        return \"DON\"\n",
    "    if autre_re.search(nature):\n",
    "        return \"AUTRE\"\n",
    "    \n",
    "    return nature\n",
    "\n",
    "avantage_data[\"normalized_avant_nature\"] = avantage_data.avant_nature.apply(normalize_nature)\n",
    "avant_by_nature = avantage_data.groupby('normalized_avant_nature').sum()"
   ]
  },
  {
   "cell_type": "code",
   "execution_count": 10,
   "metadata": {
    "collapsed": false
   },
   "outputs": [],
   "source": [
    "avant_by_nature.reset_index(level=0, inplace=True)\n",
    "avant_by_nature.sort_values(by=\"avant_montant_ttc\", ascending=False, inplace=True)"
   ]
  },
  {
   "cell_type": "code",
   "execution_count": 11,
   "metadata": {
    "collapsed": false
   },
   "outputs": [
    {
     "data": {
      "image/png": "[encoded data removed]",
      "text/plain": [
       "<matplotlib.figure.Figure at 0x1dc7b2b70>"
      ]
     },
     "metadata": {},
     "output_type": "display_data"
    }
   ],
   "source": [
    "with sns.axes_style(\"whitegrid\"):\n",
    "    sns.set_context(\"talk\")\n",
    "    sns.barplot(x=\"avant_montant_ttc\", y=\"normalized_avant_nature\", data=avant_by_nature[:10], label=\"Total\", color=\"b\")"
   ]
  },
  {
   "cell_type": "code",
   "execution_count": null,
   "metadata": {
    "collapsed": false
   },
   "outputs": [],
   "source": []
  }
 ],
 "metadata": {
  "kernelspec": {
   "display_name": "Python 3",
   "language": "python",
   "name": "python3"
  },
  "language_info": {
   "codemirror_mode": {
    "name": "ipython",
    "version": 3
   },
   "file_extension": ".py",
   "mimetype": "text/x-python",
   "name": "python",
   "nbconvert_exporter": "python",
   "pygments_lexer": "ipython3",
   "version": "3.4.1"
  }
 },
 "nbformat": 4,
 "nbformat_minor": 1
}
